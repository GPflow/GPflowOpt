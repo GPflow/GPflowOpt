{
 "cells": [
  {
   "cell_type": "markdown",
   "metadata": {
    "collapsed": true
   },
   "source": [
    "# First steps into Bayesian optimization\n",
    "*Ivo Couckuyt*, *Joachim van der Herten*"
   ]
  },
  {
   "cell_type": "markdown",
   "metadata": {},
   "source": [
    "## Introduction\n",
    "\n",
    "Bayesian optimization is particularly useful for expensive optimization problems. This includes optimization problems where the objective (and constraints) are time-consuming to evaluate: measurements, engineering simulations, hyperparameter optimization of deep learning models, etc. Another area where Bayesian optimization may provide a benefit is in the presence of (a lot of) noise. If your problem does not satisfy these requirements other optimization algorithms might be better suited.\n",
    "\n",
    "To setup a Bayesian optimization scheme with GPflowOpt you have to:\n",
    "\n",
    "- define your objective and specify the optimization domain\n",
    "- setup a GPflow model and choose an acquisition function\n",
    "- create a BayesianOptimizer"
   ]
  },
  {
   "cell_type": "markdown",
   "metadata": {},
   "source": [
    "## Objective function"
   ]
  },
  {
   "cell_type": "code",
   "execution_count": 1,
   "metadata": {},
   "outputs": [
    {
     "data": {
      "text/html": [
       "<table id='domain' width=100%><tr><td>Name</td><td>Type</td><td>Values</td></tr><tr><td>x1</td><td>Continuous</td><td>[-2.  2.]</td></tr><tr><td>x2</td><td>Continuous</td><td>[-1.  2.]</td></tr></table>"
      ],
      "text/plain": [
       "<GPflowOpt.domain.Domain at 0x7f1f613eef60>"
      ]
     },
     "execution_count": 1,
     "metadata": {},
     "output_type": "execute_result"
    }
   ],
   "source": [
    "import numpy as np\n",
    "from GPflowOpt.domain import ContinuousParameter\n",
    "\n",
    "\n",
    "def fx(X):\n",
    "    X = np.atleast_2d(X)\n",
    "    return np.sum(np.square(X), axis=1)[:, None]\n",
    "\n",
    "domain = ContinuousParameter('x1', -2, 2) + ContinuousParameter('x2', -1, 2)\n",
    "domain"
   ]
  },
  {
   "cell_type": "markdown",
   "metadata": {},
   "source": [
    "## Bayesian optimizer"
   ]
  },
  {
   "cell_type": "code",
   "execution_count": 2,
   "metadata": {},
   "outputs": [
    {
     "name": "stdout",
     "output_type": "stream",
     "text": [
      "Warning: optimization restart 1/5 failed\n",
      "Warning: optimization restart 2/5 failed\n",
      "Warning: optimization restart 3/5 failed\n",
      "Warning: optimization restart 2/5 failed\n",
      "     fun: array([ 0.01])\n",
      " message: 'OK'\n",
      "    nfev: 15\n",
      " success: True\n",
      "       x: array([[ 0. , -0.1]])\n"
     ]
    }
   ],
   "source": [
    "import GPflow\n",
    "from GPflowOpt.bo import BayesianOptimizer\n",
    "from GPflowOpt.design import LatinHyperCube\n",
    "from GPflowOpt.acquisition import ExpectedImprovement\n",
    "from GPflowOpt.optim import SciPyOptimizer\n",
    "\n",
    "# Use standard Gaussian process Regression\n",
    "lhd = LatinHyperCube(21, domain)\n",
    "X = lhd.generate()\n",
    "Y = fx(X)\n",
    "model = GPflow.gpr.GPR(X, Y, GPflow.kernels.Matern52(2, ARD=True))\n",
    "model.kern.lengthscales.transform = GPflow.transforms.Log1pe(1e-3)\n",
    "\n",
    "# Now create the Bayesian Optimizer\n",
    "alpha = ExpectedImprovement(model)\n",
    "optimizer = BayesianOptimizer(domain, alpha)\n",
    "\n",
    "# Run the Bayesian optimization\n",
    "with optimizer.silent():\n",
    "    r = optimizer.optimize(fx, n_iter=15)\n",
    "print(r)"
   ]
  },
  {
   "cell_type": "markdown",
   "metadata": {},
   "source": [
    "That's all! Your objective function has now been optimized for 15 iterations."
   ]
  }
 ],
 "metadata": {
  "kernelspec": {
   "display_name": "Python 3",
   "language": "python",
   "name": "python3"
  },
  "language_info": {
   "codemirror_mode": {
    "name": "ipython",
    "version": 3
   },
   "file_extension": ".py",
   "mimetype": "text/x-python",
   "name": "python",
   "nbconvert_exporter": "python",
   "pygments_lexer": "ipython3",
   "version": "3.6.1"
  }
 },
 "nbformat": 4,
 "nbformat_minor": 1
}
