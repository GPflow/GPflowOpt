{
 "cells": [
  {
   "cell_type": "markdown",
   "metadata": {
    "collapsed": true
   },
   "source": [
    "# Min-Value Entropy Search\n",
    "\n",
    "*Nicolas Knudde*\n",
    "\n",
    "In this notebook the Min-Value Entropy Search ([Wang et al., 2017](https://arxiv.org/pdf/1703.01968)) is tested on some benchmark functions and compared to expected improvement."
   ]
  },
  {
   "cell_type": "code",
   "execution_count": 1,
   "metadata": {
    "collapsed": true
   },
   "outputs": [],
   "source": [
    "import numpy as np\n",
    "import gpflowopt\n",
    "import gpflow\n",
    "import matplotlib.pyplot as plt"
   ]
  },
  {
   "cell_type": "code",
   "execution_count": 2,
   "metadata": {
    "collapsed": true
   },
   "outputs": [],
   "source": [
    "def branin(x):\n",
    "    x = np.atleast_2d(x)\n",
    "    x1 = x[:, 0]\n",
    "    x2 = x[:, 1]\n",
    "    a = 1.\n",
    "    b = 5.1 / (4. * np.pi ** 2)\n",
    "    c = 5. / np.pi\n",
    "    r = 6.\n",
    "    s = 10.\n",
    "    t = 1. / (8. * np.pi)\n",
    "    ret = a * (x2 - b * x1 ** 2 + c * x1 - r) ** 2 + s * (1 - t) * np.cos(x1) + s\n",
    "    return ret[:, None]\n",
    "branin_domain = gpflowopt.domain.ContinuousParameter('x1', -2.25, 2.5) + \\\n",
    "         gpflowopt.domain.ContinuousParameter('x2', -2.5, 1.75)\n",
    "\n",
    "\n",
    "def shekel(x):\n",
    "    beta = 1 / 10 * np.array([[1, 2, 2, 4, 4, 6, 3, 7, 5, 5]])\n",
    "    c = np.expand_dims(np.array([[4, 1, 8, 6, 3, 2, 5, 8, 6, 7],\n",
    "                                 [4, 1, 8, 6, 7, 9, 3, 1, 2, 3.6],\n",
    "                                 [4, 1, 8, 6, 3, 2, 5, 8, 6, 7],\n",
    "                                 [4, 1, 8, 6, 7, 9, 3, 1, 2, 3.6]]), 0)\n",
    "    f = np.sum(-1 / (np.sum((np.expand_dims(x, -1) - c) ** 2, axis=1) + beta), axis=1)[:, None]\n",
    "    return f\n",
    "\n",
    "shekel_domain = gpflowopt.domain.ContinuousParameter('x_0', 0, 10)\n",
    "for i in range(3):\n",
    "    shekel_domain += gpflowopt.domain.ContinuousParameter('x_'+str(i+1), 0, 10)"
   ]
  },
  {
   "cell_type": "code",
   "execution_count": 3,
   "metadata": {
    "collapsed": true
   },
   "outputs": [],
   "source": [
    "def plot(objective, domain):\n",
    "    acquisition_opt = gpflowopt.optim.StagedOptimizer([gpflowopt.optim.MCOptimizer(domain, 200),\n",
    "                                                       gpflowopt.optim.SciPyOptimizer(domain)])\n",
    "\n",
    "    D = domain.size\n",
    "    design = gpflowopt.design.LatinHyperCube(int(2.1 ** D), domain)\n",
    "    X = design.generate()\n",
    "    Y = objective(X)\n",
    "\n",
    "    m_mes = gpflow.gpr.GPR(X.copy(), Y.copy(), gpflow.kernels.Matern52(D, ARD=False))\n",
    "    m_mes.likelihood.variance = 0.001\n",
    "    m_mes.kern.lengthscales.prior = gpflow.priors.Gamma(5, 1 / 10)\n",
    "    m_mes.kern.variance.prior = gpflow.priors.Gamma(5, 1 / 10)\n",
    "    m_mes.likelihood.variance.prior = gpflow.priors.Gamma(5, 1 / 50)\n",
    "    mes = gpflowopt.acquisition.MinValueEntropySearch(m_mes, domain)\n",
    "    mes.optimize_restarts = 10\n",
    "\n",
    "    m_ei = gpflow.gpr.GPR(X.copy(), Y.copy(), gpflow.kernels.Matern52(D, ARD=False))\n",
    "    m_ei.likelihood.variance = 0.001\n",
    "    m_ei.kern.lengthscales.prior = gpflow.priors.Gamma(5, 1 / 10)\n",
    "    m_ei.kern.variance.prior = gpflow.priors.Gamma(5, 1 / 10)\n",
    "    m_ei.likelihood.variance.prior = gpflow.priors.Gamma(5, 1 / 50)\n",
    "    ei = gpflowopt.acquisition.ExpectedImprovement(m_ei)\n",
    "    ei.optimize_restarts = 10\n",
    "\n",
    "    for a in [mes, ei]:\n",
    "        optimizer = gpflowopt.BayesianOptimizer(domain, a, optimizer=acquisition_opt)\n",
    "        with optimizer.silent():\n",
    "            optimizer.optimize(objective, n_iter=15)\n",
    "    fig, axes = plt.subplots(1, 1)\n",
    "\n",
    "    for a, n in zip([mes, ei], ['MES', 'EI']):\n",
    "        f = a.data[1][:, 0]\n",
    "        axes.plot(np.arange(0, a.data[0].shape[0]), np.minimum.accumulate(f), label=n)\n",
    "        axes.set_ylabel('fmin')\n",
    "        axes.set_xlabel('Number of evaluated points')\n",
    "        plt.legend()\n",
    "    plt.show()"
   ]
  },
  {
   "cell_type": "code",
   "execution_count": 4,
   "metadata": {},
   "outputs": [
    {
     "data": {
      "image/png": "[encoded data removed]",
      "text/plain": [
       "<matplotlib.figure.Figure at 0x7f42f00c4be0>"
      ]
     },
     "metadata": {},
     "output_type": "display_data"
    }
   ],
   "source": [
    "plot(branin, branin_domain)"
   ]
  },
  {
   "cell_type": "code",
   "execution_count": 5,
   "metadata": {
    "scrolled": false
   },
   "outputs": [
    {
     "data": {
      "image/png": "[encoded data removed]",
      "text/plain": [
       "<matplotlib.figure.Figure at 0x7f4080617da0>"
      ]
     },
     "metadata": {},
     "output_type": "display_data"
    }
   ],
   "source": [
    "plot(shekel, shekel_domain)"
   ]
  },
  {
   "cell_type": "code",
   "execution_count": null,
   "metadata": {
    "collapsed": true
   },
   "outputs": [],
   "source": []
  }
 ],
 "metadata": {
  "kernelspec": {
   "display_name": "Python 3",
   "language": "python",
   "name": "python3"
  },
  "language_info": {
   "codemirror_mode": {
    "name": "ipython",
    "version": 3
   },
   "file_extension": ".py",
   "mimetype": "text/x-python",
   "name": "python",
   "nbconvert_exporter": "python",
   "pygments_lexer": "ipython3",
   "version": "3.6.2"
  }
 },
 "nbformat": 4,
 "nbformat_minor": 1
}
