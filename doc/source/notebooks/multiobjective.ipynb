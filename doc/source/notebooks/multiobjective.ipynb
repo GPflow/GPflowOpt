{
 "cells": [
  {
   "cell_type": "markdown",
   "metadata": {},
   "source": [
    "# Bayesian Multiobjective Optimization\n",
    "*Joachim van der Herten, Ivo Couckuyt*"
   ]
  },
  {
   "cell_type": "markdown",
   "metadata": {},
   "source": [
    "## Introduction\n",
    "\n",
    "This notebook demonstrates the multiobjective optimization of an analytical function using the hypervolume-based probability of improvement function."
   ]
  },
  {
   "cell_type": "code",
   "execution_count": 1,
   "metadata": {
    "collapsed": true
   },
   "outputs": [],
   "source": [
    "%matplotlib inline\n",
    "import matplotlib.pyplot as plt\n",
    "\n",
    "import gpflow\n",
    "import gpflowopt\n",
    "import numpy as np"
   ]
  },
  {
   "cell_type": "markdown",
   "metadata": {},
   "source": [
    "We setup the Veldhuizen and Lamont multiobjective optimization problem 2 (vlmop2). The objectives of vlmop2 are very easy to model. Ideal for illustrating Bayesian multiobjective optimization."
   ]
  },
  {
   "cell_type": "code",
   "execution_count": 2,
   "metadata": {},
   "outputs": [
    {
     "data": {
      "image/png": "[encoded data removed]",
      "text/plain": [
       "<matplotlib.figure.Figure at 0x7f4369d171d0>"
      ]
     },
     "metadata": {},
     "output_type": "display_data"
    }
   ],
   "source": [
    "# Objective\n",
    "def vlmop2(x):\n",
    "    transl = 1 / np.sqrt(2)\n",
    "    part1 = (x[:, [0]] - transl) ** 2 + (x[:, [1]] - transl) ** 2\n",
    "    part2 = (x[:, [0]] + transl) ** 2 + (x[:, [1]] + transl) ** 2\n",
    "    y1 = 1 - np.exp(-1 * part1)\n",
    "    y2 = 1 - np.exp(-1 * part2)\n",
    "    return np.hstack((y1, y2))\n",
    "\n",
    "# Setup input domain\n",
    "domain = gpflowopt.domain.ContinuousParameter('x1', -2, 2) + \\\n",
    "         gpflowopt.domain.ContinuousParameter('x2', -2, 2)\n",
    "\n",
    "# Plot\n",
    "def plotfx():  \n",
    "    X = gpflowopt.design.FactorialDesign(101, domain).generate()\n",
    "    Z = vlmop2(X)\n",
    "    shape = (101, 101)\n",
    "    \n",
    "    axes = []\n",
    "    plt.figure(figsize=(15, 5))\n",
    "    for i in range(Z.shape[1]):\n",
    "        axes = axes + [plt.subplot2grid((1, 2), (0, i))]\n",
    "\n",
    "        axes[-1].contourf(X[:,0].reshape(shape), X[:,1].reshape(shape), Z[:,i].reshape(shape))\n",
    "        axes[-1].set_title('Objective {}'.format(i+1))\n",
    "        axes[-1].set_xlabel('x1')\n",
    "        axes[-1].set_ylabel('x2')\n",
    "        axes[-1].set_xlim([domain.lower[0], domain.upper[0]])\n",
    "        axes[-1].set_ylim([domain.lower[1], domain.upper[1]])\n",
    "    \n",
    "    return axes\n",
    "\n",
    "plotfx();"
   ]
  },
  {
   "cell_type": "markdown",
   "metadata": {},
   "source": [
    "## Multiobjective acquisition function\n",
    "\n",
    "We can model the belief of each objective by one GP prior or model each objective separately using a GP prior. We illustrate the latter approach here. A set of data points arranged in a Latin Hypercube is evaluated on the vlmop2 function.\n",
    "\n",
    "In multiobjective optimization the definition of improvement is ambigious. Here we define improvement using the contributing hypervolume which will determine the focus on density and uniformity of the Pareto set during sampling. For instance, due to the nature of the contributing hypervolume steep slopes in the Pareto front will be sampled less densely. The hypervolume-based probability of improvement is based on the model(s) of the objective functions (vlmop2) and aggregates all the information in one cost function which is a balance between:\n",
    "\n",
    "- improving our belief of the objectives (high uncertainty)\n",
    "- favoring points improving the Pareto set (large contributing hypervolume with a likely higher uncertainty)\n",
    "- focussing on augmenting the Pareto set (small contributing hypervolume but with low uncertainty). "
   ]
  },
  {
   "cell_type": "code",
   "execution_count": 3,
   "metadata": {
    "collapsed": true
   },
   "outputs": [],
   "source": [
    "# Initial evaluations\n",
    "design = gpflowopt.design.LatinHyperCube(11, domain)\n",
    "X = design.generate()\n",
    "Y = vlmop2(X)\n",
    "\n",
    "# One model for each objective\n",
    "objective_models = [gpflow.gpr.GPR(X.copy(), Y[:,[i]].copy(), gpflow.kernels.Matern52(2, ARD=True)) for i in range(Y.shape[1])]\n",
    "for model in objective_models:\n",
    "    model.likelihood.variance = 0.01\n",
    "\n",
    "hvpoi = gpflowopt.acquisition.HVProbabilityOfImprovement(objective_models)"
   ]
  },
  {
   "cell_type": "markdown",
   "metadata": {},
   "source": [
    "## Running the Bayesian optimizer\n",
    "\n",
    "The optimization surface of multiobjective acquisition functions can be even more challenging than, e.g., standard expected improvement. Hence, a hybrid optimization scheme is preferred: a Monte Carlo optimization step first, then optimize the point with the best value.\n",
    "\n",
    "We then run the Bayesian Optimization and allow it to select up to 20 additional decisions. "
   ]
  },
  {
   "cell_type": "code",
   "execution_count": 4,
   "metadata": {
    "scrolled": false
   },
   "outputs": [
    {
     "name": "stdout",
     "output_type": "stream",
     "text": [
      "     fun: array([[ 0.88762951,  0.29191139],\n",
      "       [ 0.68279472,  0.59802318],\n",
      "       [ 0.42659568,  0.79430421],\n",
      "       [ 0.07354128,  0.94891563],\n",
      "       [ 0.82764037,  0.37153952],\n",
      "       [ 0.21803674,  0.89654802],\n",
      "       [ 0.5652733 ,  0.69464852],\n",
      "       [ 0.00923563,  0.9738539 ],\n",
      "       [ 0.9334239 ,  0.12286183],\n",
      "       [ 0.71007284,  0.54565196],\n",
      "       [ 0.76405389,  0.47382314],\n",
      "       [ 0.34539271,  0.83984545],\n",
      "       [ 0.48687039,  0.75355875],\n",
      "       [ 0.63004337,  0.63471413],\n",
      "       [ 0.98267516,  0.00178449],\n",
      "       [ 0.91892508,  0.16232397],\n",
      "       [ 0.85634937,  0.30878024],\n",
      "       [ 0.29492334,  0.86269861],\n",
      "       [ 0.89223755,  0.22705924],\n",
      "       [ 0.79104171,  0.43108073]])\n",
      " message: 'OK'\n",
      "    nfev: 20\n",
      " success: True\n",
      "       x: array([[-0.16140283, -0.48940691],\n",
      "       [ 0.0727557 , -0.15649316],\n",
      "       [ 0.22042083,  0.14203954],\n",
      "       [ 0.52761769,  0.49694149],\n",
      "       [-0.17070714, -0.28668133],\n",
      "       [ 0.38576529,  0.32936723],\n",
      "       [ 0.09298785,  0.03190632],\n",
      "       [ 0.66424394,  0.62084368],\n",
      "       [-0.40696469, -0.50460869],\n",
      "       [-0.10057392, -0.05825421],\n",
      "       [-0.10349761, -0.18006422],\n",
      "       [ 0.2923697 ,  0.20539677],\n",
      "       [ 0.14213026,  0.11716751],\n",
      "       [-0.01662408,  0.02111616],\n",
      "       [-0.74495067, -0.68829395],\n",
      "       [-0.36858442, -0.45705387],\n",
      "       [-0.26088788, -0.29457053],\n",
      "       [ 0.27909045,  0.29936819],\n",
      "       [-0.3425574 , -0.35403933],\n",
      "       [-0.20960284, -0.14451762]])\n",
      "[[ 0.00924157  0.97385548]\n",
      " [ 0.07353906  0.9489149 ]\n",
      " [ 0.21803833  0.89654648]\n",
      " [ 0.29492503  0.86270261]\n",
      " [ 0.34538813  0.83984479]\n",
      " [ 0.42659985  0.79430552]\n",
      " [ 0.48686827  0.75354473]\n",
      " [ 0.56527447  0.69466632]\n",
      " [ 0.63003846  0.63471877]\n",
      " [ 0.68279543  0.59801444]\n",
      " [ 0.71007725  0.54563413]\n",
      " [ 0.76405382  0.47382832]\n",
      " [ 0.82763436  0.37155876]\n",
      " [ 0.8563462   0.30880294]\n",
      " [ 0.88763433  0.29189238]\n",
      " [ 0.89225033  0.2270049 ]\n",
      " [ 0.91890866  0.16234889]\n",
      " [ 0.93342994  0.12287979]\n",
      " [ 0.98267631  0.00178968]]\n"
     ]
    }
   ],
   "source": [
    "# First setup the optimization strategy for the acquisition function\n",
    "# Combining MC step followed by L-BFGS-B\n",
    "acquisition_opt = gpflowopt.optim.StagedOptimizer([gpflowopt.optim.MCOptimizer(domain, 1000), \n",
    "                                                   gpflowopt.optim.SciPyOptimizer(domain)])\n",
    "\n",
    "# Then run the BayesianOptimizer for 20 iterations\n",
    "optimizer = gpflowopt.BayesianOptimizer(domain, hvpoi, optimizer=acquisition_opt)\n",
    "with optimizer.silent():\n",
    "    result = optimizer.optimize([vlmop2], n_iter=20)\n",
    "\n",
    "print(result)\n",
    "print(optimizer.acquisition.pareto.front.value)"
   ]
  },
  {
   "cell_type": "markdown",
   "metadata": {},
   "source": [
    "For multiple objectives the returned `OptimizeResult` object contains the identified Pareto set instead of just a single optimum. Note that this is computed on the raw data Y.\n",
    "\n",
    "The hypervolume-based probability of improvement operates on the Pareto set derived from the model predictions of the training data (to handle noise). This latter Pareto set can be found as `optimizer.acquisition.pareto.front.value`.\n",
    "\n",
    "## Plotting the results\n",
    "\n",
    "Lets plot the belief of the final models and acquisition function."
   ]
  },
  {
   "cell_type": "code",
   "execution_count": 5,
   "metadata": {
    "scrolled": false
   },
   "outputs": [
    {
     "name": "stdout",
     "output_type": "stream",
     "text": [
      "name.kern.\u001b[1mlengthscales\u001b[0m transform:+ve prior:None\n",
      "[ 0.58170479  0.57493089]\n",
      "name.kern.\u001b[1mvariance\u001b[0m transform:+ve prior:None\n",
      "[ 4.39140011]\n",
      "name.likelihood.\u001b[1mvariance\u001b[0m transform:+ve prior:None\n",
      "[  1.00000000e-06]\n",
      "\n",
      "name.kern.\u001b[1mlengthscales\u001b[0m transform:+ve prior:None\n",
      "[ 0.60083304  0.58044734]\n",
      "name.kern.\u001b[1mvariance\u001b[0m transform:+ve prior:None\n",
      "[ 3.35582088]\n",
      "name.likelihood.\u001b[1mvariance\u001b[0m transform:+ve prior:None\n",
      "[  1.00000007e-06]\n",
      "\n"
     ]
    },
    {
     "data": {
      "image/png": "[encoded data removed]",
      "text/plain": [
       "<matplotlib.figure.Figure at 0x7f42d4629a90>"
      ]
     },
     "metadata": {},
     "output_type": "display_data"
    }
   ],
   "source": [
    "def plot():\n",
    "    grid_size = 51  # 101\n",
    "    shape = (grid_size, grid_size)\n",
    "    \n",
    "    Xeval = gpflowopt.design.FactorialDesign(grid_size, domain).generate()\n",
    "    \n",
    "    Yeval_1, _ = hvpoi.models[0].predict_f(Xeval)\n",
    "    Yeval_2, _ = hvpoi.models[1].predict_f(Xeval)\n",
    "            \n",
    "    Yevalc = hvpoi.evaluate(Xeval)\n",
    "    \n",
    "    plots = [((0,0), 1, 1, 'Objective 1 model', Yeval_1[:,0]),\n",
    "             ((0,1), 1, 1, 'Objective 2 model', Yeval_2[:,0]),\n",
    "             ((1,0), 2, 2, 'hypervolume-based PoI', Yevalc)]\n",
    "\n",
    "    plt.figure(figsize=(7,7))\n",
    "    for i, (plot_pos, plot_rowspan, plot_colspan, plot_title, plot_data) in enumerate(plots):\n",
    "        data = hvpoi.data[0]\n",
    "            \n",
    "        ax = plt.subplot2grid((3, 2), plot_pos, rowspan=plot_rowspan, colspan=plot_colspan)\n",
    "        ax.contourf(Xeval[:,0].reshape(shape), Xeval[:,1].reshape(shape), plot_data.reshape(shape))\n",
    "        ax.scatter(data[:,0], data[:,1], c='w')\n",
    "        ax.set_title(plot_title)\n",
    "        ax.set_xlabel('x1')\n",
    "        ax.set_ylabel('x2')\n",
    "        ax.set_xlim([domain.lower[0], domain.upper[0]])\n",
    "        ax.set_ylim([domain.lower[1], domain.upper[1]])\n",
    "    plt.tight_layout()\n",
    "    \n",
    "# Plot representing the model belief, and the belief mapped to EI and PoF\n",
    "plot()\n",
    "\n",
    "for model in objective_models:\n",
    "    print(model)"
   ]
  },
  {
   "cell_type": "markdown",
   "metadata": {},
   "source": [
    "Finally, we can extract and plot the Pareto front ourselves using the `pareto.non_dominated_sort` function on the final data matrix Y.\n",
    "\n",
    "The non-dominated sort returns the Pareto set (non-dominated solutions) as well as a dominance vector holding the number of dominated points for each point in Y. For example, we could only select the points with dom == 2, or dom == 0 (the latter retrieves the non-dominated solutions). Here we choose to use the dominance vector to color the points."
   ]
  },
  {
   "cell_type": "code",
   "execution_count": 6,
   "metadata": {
    "scrolled": false
   },
   "outputs": [
    {
     "name": "stdout",
     "output_type": "stream",
     "text": [
      "R: [ 1.5  1.5]\n",
      "Hypervolume indicator: 1.55890890103\n"
     ]
    },
    {
     "data": {
      "text/plain": [
       "<matplotlib.text.Text at 0x7f42a9bd1908>"
      ]
     },
     "execution_count": 6,
     "metadata": {},
     "output_type": "execute_result"
    },
    {
     "data": {
      "text/plain": [
       "<matplotlib.figure.Figure at 0x7f4324517860>"
      ]
     },
     "metadata": {},
     "output_type": "display_data"
    },
    {
     "data": {
      "image/png": "[encoded data removed]",
      "text/plain": [
       "<matplotlib.figure.Figure at 0x7f42f0f09e10>"
      ]
     },
     "metadata": {},
     "output_type": "display_data"
    }
   ],
   "source": [
    "# plot pareto front\n",
    "plt.figure(figsize=(9, 4))\n",
    "\n",
    "R = np.array([1.5, 1.5])\n",
    "print('R:', R)\n",
    "hv = hvpoi.pareto.hypervolume(R)\n",
    "print('Hypervolume indicator:', hv)\n",
    "\n",
    "plt.figure(figsize=(7, 7))\n",
    "\n",
    "pf, dom = gpflowopt.pareto.non_dominated_sort(hvpoi.data[1])\n",
    "\n",
    "plt.scatter(hvpoi.data[1][:,0], hvpoi.data[1][:,1], c=dom)\n",
    "plt.title('Pareto set')\n",
    "plt.xlabel('Objective 1')\n",
    "plt.ylabel('Objective 2')"
   ]
  }
 ],
 "metadata": {
  "kernelspec": {
   "display_name": "Python 3",
   "language": "python",
   "name": "python3"
  },
  "language_info": {
   "codemirror_mode": {
    "name": "ipython",
    "version": 3
   },
   "file_extension": ".py",
   "mimetype": "text/x-python",
   "name": "python",
   "nbconvert_exporter": "python",
   "pygments_lexer": "ipython3",
   "version": "3.5.2"
  }
 },
 "nbformat": 4,
 "nbformat_minor": 1
}
